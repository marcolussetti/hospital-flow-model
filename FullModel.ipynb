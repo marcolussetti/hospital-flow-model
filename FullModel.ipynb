{
 "cells": [
  {
   "cell_type": "markdown",
   "metadata": {
    "pycharm": {}
   },
   "source": [
    "# MIMIC-III Model Generator\n",
    "Generates a model based on MIMIC-III data to compute probabilities of transfering between departments as well as the average time spent in the department.\n",
    "This model will then be run through with input data.\n",
    "\n",
    "If the input data is the MIMIC-III original data, it should produce similar results to the real life situation with the difference resulting the approximation caused by the removal of both diagnostic data and the real patient history."
   ]
  },
  {
   "cell_type": "markdown",
   "metadata": {
    "heading_collapsed": true,
    "pycharm": {}
   },
   "source": [
    "## Imports & Constants"
   ]
  },
  {
   "cell_type": "code",
   "execution_count": 1,
   "metadata": {
    "ExecuteTime": {
     "end_time": "2019-05-11T22:29:18.559686Z",
     "start_time": "2019-05-11T22:29:15.653107Z"
    },
    "hidden": true,
    "pycharm": {
     "is_executing": false
    }
   },
   "outputs": [],
   "source": [
    "import json\n",
    "import random\n",
    "import pickle\n",
    "from math import isnan\n",
    "import numbers\n",
    "import pandas as pd\n",
    "import numpy as np\n",
    "from numpy.random import choice\n",
    "from dateutil import relativedelta\n",
    "import statistics\n",
    "from sklearn.metrics import mean_squared_error\n",
    "\n",
    "from plotnine import *\n",
    "%matplotlib inline"
   ]
  },
  {
   "cell_type": "markdown",
   "metadata": {
    "pycharm": {}
   },
   "source": [
    "## Process MIMIC-III Dataset"
   ]
  },
  {
   "cell_type": "markdown",
   "metadata": {
    "pycharm": {}
   },
   "source": [
    "### Import MIMIC-III data & Basic processing"
   ]
  },
  {
   "cell_type": "markdown",
   "metadata": {
    "pycharm": {}
   },
   "source": [
    "The dataframe is imported from a csv export of a basic SQL query run against the Postgres version of MIMIC-III:\n",
    "\n",
    "```sql\n",
    "SELECT *,\n",
    "       (SELECT string_agg(icd9_code, ',') FROM mimiciii.diagnoses_icd d WHERE d.hadm_id = t.hadm_id) AS icd9\n",
    "FROM mimiciii.transfers t\n",
    "JOIN mimiciii.admissions a ON a.hadm_id = t.hadm_id\n",
    "JOIN mimiciii.patients p ON p.subject_id = a.subject_id\n",
    ";\n",
    "```"
   ]
  },
  {
   "cell_type": "code",
   "execution_count": 2,
   "metadata": {
    "ExecuteTime": {
     "end_time": "2019-05-11T22:29:21.715882Z",
     "start_time": "2019-05-11T22:29:18.562123Z"
    },
    "pycharm": {
     "is_executing": false
    }
   },
   "outputs": [],
   "source": [
    "# This is imported from the result of an SQL query on the imported version of the\n",
    "df = pd.read_csv('../sql/SELECT_____________SELECT_string_agg_icd.csv')"
   ]
  },
  {
   "cell_type": "code",
   "execution_count": null,
   "metadata": {
    "ExecuteTime": {
     "end_time": "2019-05-11T22:29:21.972187Z",
     "start_time": "2019-05-11T22:29:21.718151Z"
    }
   },
   "outputs": [],
   "source": [
    "df"
   ]
  },
  {
   "cell_type": "code",
   "execution_count": 4,
   "metadata": {
    "ExecuteTime": {
     "end_time": "2019-05-11T22:29:22.378495Z",
     "start_time": "2019-05-11T22:29:21.974903Z"
    },
    "pycharm": {
     "metadata": false,
     "name": "#%%\n"
    }
   },
   "outputs": [],
   "source": [
    "# Convert dates\n",
    "df['intime'] = pd.to_datetime(df['intime'], format='%Y-%m-%d %H:%M:%S')\n",
    "df['outtime'] = pd.to_datetime(df['outtime'], format='%Y-%m-%d %H:%M:%S')\n",
    "df['dob'] = pd.to_datetime(df['dob'], format='%Y-%m-%d %H:%M:%S')\n",
    "df['admittime'] = pd.to_datetime(df['intime'], format='%Y-%m-%d %H:%M:%S')"
   ]
  },
  {
   "cell_type": "markdown",
   "metadata": {
    "pycharm": {}
   },
   "source": [
    "### Exploring the MIMIC-III data"
   ]
  },
  {
   "cell_type": "code",
   "execution_count": null,
   "metadata": {
    "ExecuteTime": {
     "end_time": "2019-05-11T22:29:22.408236Z",
     "start_time": "2019-05-11T22:29:22.380792Z"
    },
    "pycharm": {}
   },
   "outputs": [],
   "source": [
    "df.head()"
   ]
  },
  {
   "cell_type": "code",
   "execution_count": null,
   "metadata": {
    "ExecuteTime": {
     "end_time": "2019-05-11T22:29:22.614412Z",
     "start_time": "2019-05-11T22:29:22.410819Z"
    },
    "pycharm": {}
   },
   "outputs": [],
   "source": [
    "df.describe()"
   ]
  },
  {
   "cell_type": "code",
   "execution_count": 7,
   "metadata": {
    "ExecuteTime": {
     "end_time": "2019-05-11T22:29:22.631908Z",
     "start_time": "2019-05-11T22:29:22.616413Z"
    },
    "pycharm": {}
   },
   "outputs": [
    {
     "data": {
      "text/plain": [
       "array(['MICU', nan, 'SICU', 'TSICU', 'CSRU', 'CCU', 'NICU', 'NWARD'],\n",
       "      dtype=object)"
      ]
     },
     "execution_count": 7,
     "metadata": {},
     "output_type": "execute_result"
    }
   ],
   "source": [
    "# Distinct care units\n",
    "df['curr_careunit'].unique()"
   ]
  },
  {
   "cell_type": "code",
   "execution_count": 8,
   "metadata": {
    "ExecuteTime": {
     "end_time": "2019-05-11T22:29:22.654645Z",
     "start_time": "2019-05-11T22:29:22.633461Z"
    },
    "pycharm": {}
   },
   "outputs": [
    {
     "data": {
      "text/plain": [
       "array([nan, 'MICU', 'SICU', 'TSICU', 'CSRU', 'CCU', 'NICU', 'NWARD'],\n",
       "      dtype=object)"
      ]
     },
     "execution_count": 8,
     "metadata": {},
     "output_type": "execute_result"
    }
   ],
   "source": [
    "df['prev_careunit'].unique()"
   ]
  },
  {
   "cell_type": "code",
   "execution_count": 9,
   "metadata": {
    "ExecuteTime": {
     "end_time": "2019-05-11T22:29:22.666724Z",
     "start_time": "2019-05-11T22:29:22.656580Z"
    },
    "pycharm": {}
   },
   "outputs": [
    {
     "data": {
      "text/plain": [
       "array([52., 29., nan, 50., 45., 54., 15., 51., 36., 33., 14.,  2., 49.,\n",
       "       32.,  8., 12., 27., 24., 40., 23., 37.,  7., 56., 43.,  5., 55.,\n",
       "        4., 48., 17.,  3., 18., 57., 31., 26.,  9., 28., 30., 47., 41.,\n",
       "       25., 44., 22., 10., 35., 16., 42., 38., 34.,  6., 39., 13., 20.,\n",
       "       19., 11.])"
      ]
     },
     "execution_count": 9,
     "metadata": {},
     "output_type": "execute_result"
    }
   ],
   "source": [
    "# Distinct Wards\n",
    "df['curr_wardid'].unique()"
   ]
  },
  {
   "cell_type": "code",
   "execution_count": 10,
   "metadata": {
    "ExecuteTime": {
     "end_time": "2019-05-11T22:29:22.676722Z",
     "start_time": "2019-05-11T22:29:22.669212Z"
    },
    "pycharm": {}
   },
   "outputs": [
    {
     "data": {
      "text/plain": [
       "58976"
      ]
     },
     "execution_count": 10,
     "metadata": {},
     "output_type": "execute_result"
    }
   ],
   "source": [
    "# Distinct Admissions\n",
    "len(df['hadm_id'].unique())"
   ]
  },
  {
   "cell_type": "markdown",
   "metadata": {
    "pycharm": {}
   },
   "source": [
    "### Group and process transfers\n",
    "Group transfers by admission id (so that all transfers fall from it) and condense the records to the data we need."
   ]
  },
  {
   "cell_type": "code",
   "execution_count": 11,
   "metadata": {
    "ExecuteTime": {
     "end_time": "2019-05-11T22:29:22.683885Z",
     "start_time": "2019-05-11T22:29:22.681011Z"
    },
    "pycharm": {}
   },
   "outputs": [],
   "source": [
    "df_by_admission_id = df.groupby(by=\"hadm_id\")"
   ]
  },
  {
   "cell_type": "code",
   "execution_count": 12,
   "metadata": {
    "ExecuteTime": {
     "end_time": "2019-05-11T22:29:22.692630Z",
     "start_time": "2019-05-11T22:29:22.686358Z"
    },
    "pycharm": {}
   },
   "outputs": [],
   "source": [
    "def analyze_transfers(group):\n",
    "    history = {}\n",
    "    for index, row in group.iterrows():\n",
    "        history[row['intime']] = {\n",
    "            'eventtype': row['eventtype'],\n",
    "            'curr_careunit': row['curr_careunit'],\n",
    "            'prev_careunit': row['prev_careunit'],\n",
    "            'prev_ward': row['prev_wardid'],\n",
    "            'curr_ward': row['curr_wardid'],\n",
    "            'wardid': row['curr_wardid'],\n",
    "            'intime': row['intime'],\n",
    "            'outtime': row['outtime']\n",
    "        }\n",
    "\n",
    "    return history"
   ]
  },
  {
   "cell_type": "code",
   "execution_count": 13,
   "metadata": {
    "ExecuteTime": {
     "end_time": "2019-05-11T22:31:11.512689Z",
     "start_time": "2019-05-11T22:29:22.696303Z"
    },
    "pycharm": {}
   },
   "outputs": [],
   "source": [
    "processed = []\n",
    "for name, group in df_by_admission_id:\n",
    "    admission_loc = [item for key, item in group[\"admission_location\"].items()][0]\n",
    "    discharge_loc = [item for key, item in group[\"discharge_location\"].items()][0]\n",
    "    admission_time = [item for key, item in group[\"admittime\"].items()][0]\n",
    "    dob = [item for key, item in group[\"dob\"].items()][0]\n",
    "    gender = [item for key, item in group[\"gender\"].items()][0]\n",
    "    \n",
    "    try:\n",
    "        age = relativedelta.relativedelta(admission_time, dob).years\n",
    "    except:\n",
    "        continue\n",
    "    if age >= 65:\n",
    "        age_range = 65\n",
    "    elif age >= 25:\n",
    "        age_range = 25\n",
    "    elif age >= 15:\n",
    "        age_range = 15\n",
    "    else:\n",
    "        age_range = 0\n",
    "    \n",
    "    \n",
    "    processed.append({\n",
    "        \"admission_location\": admission_loc,\n",
    "        \"discharge_location\": discharge_loc,\n",
    "        \"gender\": gender,\n",
    "        \"transfers\": analyze_transfers(group),\n",
    "        \"dob\": dob,\n",
    "        \"age_range\": age_range,\n",
    "        \"admission_time\": admission_time\n",
    "    })"
   ]
  },
  {
   "cell_type": "code",
   "execution_count": 14,
   "metadata": {
    "ExecuteTime": {
     "end_time": "2019-05-11T22:31:11.518364Z",
     "start_time": "2019-05-11T22:31:11.515011Z"
    },
    "pycharm": {}
   },
   "outputs": [
    {
     "data": {
      "text/plain": [
       "58952"
      ]
     },
     "execution_count": 14,
     "metadata": {},
     "output_type": "execute_result"
    }
   ],
   "source": [
    "len(processed)"
   ]
  },
  {
   "cell_type": "code",
   "execution_count": null,
   "metadata": {
    "ExecuteTime": {
     "end_time": "2019-05-11T22:31:11.535156Z",
     "start_time": "2019-05-11T22:31:11.520174Z"
    },
    "pycharm": {}
   },
   "outputs": [],
   "source": [
    "processed[0]"
   ]
  },
  {
   "cell_type": "code",
   "execution_count": null,
   "metadata": {
    "ExecuteTime": {
     "end_time": "2019-05-11T22:31:11.544499Z",
     "start_time": "2019-05-11T22:31:11.537956Z"
    },
    "pycharm": {}
   },
   "outputs": [],
   "source": [
    "processed[72]"
   ]
  },
  {
   "cell_type": "markdown",
   "metadata": {
    "pycharm": {}
   },
   "source": [
    "### Export results\n",
    "Export results to pickle and json for intermediate processing."
   ]
  },
  {
   "cell_type": "code",
   "execution_count": 17,
   "metadata": {
    "ExecuteTime": {
     "end_time": "2019-05-11T22:31:12.947403Z",
     "start_time": "2019-05-11T22:31:11.546334Z"
    },
    "pycharm": {}
   },
   "outputs": [],
   "source": [
    "# Dump to pickle file\n",
    "with open('processed.pickle', 'wb') as f:\n",
    "    pickle.dump(processed, f, pickle.HIGHEST_PROTOCOL)\n",
    "\n",
    "# Needs to be updated\n",
    "\n",
    "# Dump to json file\n",
    "# json_objects = {}\n",
    "# for hadm_id, admission in objects.items():\n",
    "#     record = {}\n",
    "#     for timestamp, transfer in admission.items():\n",
    "#         record[str(timestamp)] = transfer\n",
    "#     json_objects[hadm_id] = record\n",
    "# with open('processed_transfers.json', 'w') as f:\n",
    "#     json.dump(json_objects, f)"
   ]
  },
  {
   "cell_type": "markdown",
   "metadata": {
    "pycharm": {}
   },
   "source": [
    "### Compute counts"
   ]
  },
  {
   "cell_type": "code",
   "execution_count": 18,
   "metadata": {
    "ExecuteTime": {
     "end_time": "2019-05-11T22:31:12.958857Z",
     "start_time": "2019-05-11T22:31:12.949935Z"
    },
    "pycharm": {}
   },
   "outputs": [],
   "source": [
    "def record_transfer_prob(transfer_from, transfer_to, gender, age_range, arrival_hour):\n",
    "    if transfer_from not in counts:\n",
    "        counts[transfer_from] = {}\n",
    "    \n",
    "    if age_range not in counts[transfer_from]:\n",
    "        counts[transfer_from][age_range] = {}\n",
    "    \n",
    "    if gender not in counts[transfer_from][age_range]:\n",
    "        counts[transfer_from][age_range][gender] = {}\n",
    "        \n",
    "    if arrival_hour not in counts[transfer_from][age_range][gender]:\n",
    "        counts[transfer_from][age_range][gender][arrival_hour] = {}\n",
    "    \n",
    "    # Actually commit the transfer\n",
    "    if transfer_to not in counts[transfer_from][age_range][gender][arrival_hour]:\n",
    "        counts[transfer_from][age_range][gender][arrival_hour][transfer_to] = 1\n",
    "    else:\n",
    "        counts[transfer_from][age_range][gender][arrival_hour][transfer_to] += 1"
   ]
  },
  {
   "cell_type": "code",
   "execution_count": 19,
   "metadata": {
    "ExecuteTime": {
     "end_time": "2019-05-11T22:31:12.981150Z",
     "start_time": "2019-05-11T22:31:12.961681Z"
    },
    "pycharm": {}
   },
   "outputs": [],
   "source": [
    "def combine_careunit(careunit, ward):\n",
    "    return \"{}_{}\".format(\n",
    "        ward,\n",
    "        \"OUTSIDE ICU\" if (isinstance(careunit, numbers.Number) and isnan(careunit)) else careunit\n",
    "    )"
   ]
  },
  {
   "cell_type": "code",
   "execution_count": 21,
   "metadata": {
    "ExecuteTime": {
     "end_time": "2019-05-11T22:31:13.943489Z",
     "start_time": "2019-05-11T22:31:12.992218Z"
    },
    "pycharm": {}
   },
   "outputs": [],
   "source": [
    "# counts\n",
    "counts = {}\n",
    "skipped = []\n",
    "skipped_b = []\n",
    "admissions = 0\n",
    "same_transfers = []\n",
    "\n",
    "for record in processed:\n",
    "    # Extract record\n",
    "    admission_location = record[\"admission_location\"]\n",
    "    discharge_location = record[\"discharge_location\"]\n",
    "    gender = record[\"gender\"]\n",
    "    transfers = record[\"transfers\"]\n",
    "    dob = record[\"dob\"]\n",
    "    age_range = record[\"age_range\"]\n",
    "    admission_time = record[\"admission_time\"]\n",
    "    \n",
    "    # Process transfers\n",
    "    transfers_items = list(record[\"transfers\"].items())\n",
    "    \n",
    "    # Extract admission\n",
    "    admission_transfer = transfers_items[0]\n",
    "    discharge_transfer = transfers_items[-1]\n",
    "    transfers_to_process = transfers_items[1:-1]\n",
    "    \n",
    "    # Record admission\n",
    "    record_transfer_prob(\n",
    "        admission_location,\n",
    "        combine_careunit(admission_transfer[1][\"curr_careunit\"], admission_transfer[1][\"curr_ward\"]),\n",
    "        gender, \n",
    "        age_range, \n",
    "        admission_time.hour\n",
    "    )\n",
    "    \n",
    "    # Record transfers\n",
    "    last_unit = combine_careunit(admission_transfer[1][\"curr_careunit\"], admission_transfer[1][\"curr_ward\"])\n",
    "    \n",
    "    for timestamp, transfer in transfers_to_process:\n",
    "        transfer_to = combine_careunit(transfer[\"curr_careunit\"], transfer[\"curr_ward\"])\n",
    "        transfer_from = last_unit\n",
    "        record_transfer_prob(transfer_from, transfer_to, gender, age_range, admission_time.hour)\n",
    "        last_unit = transfer_to\n",
    "        \n",
    "    # Record discharge\n",
    "    record_transfer_prob(\n",
    "        last_unit,\n",
    "        discharge_location,\n",
    "        gender, \n",
    "        age_range, \n",
    "        admission_time.hour\n",
    "    )\n",
    "    \n",
    "#     # Process transfers\n",
    "#     for timestamp, transfer in record[\"transfers\"].items():\n",
    "#         event_type = transfer[\"eventtype\"]\n",
    "#         care_unit = transfer[\"careunit\"]\n",
    "        \n",
    "#         if event_type == \"admit\":\n",
    "#             admissions += 1\n",
    "#             transfer_from = admission_loc\n",
    "# #             if not care_unit:\n",
    "# #                 continue\n",
    "#             if (isinstance(care_unit, numbers.Number) and isnan(care_unit)):\n",
    "#                 transfer_to = \"OUTSIDE ICU\"\n",
    "#                 # continue\n",
    "#             else:\n",
    "#                 transfer_to = care_unit\n",
    "#         elif event_type == \"discharge\":\n",
    "#             transfer_from = last_transfer_from\n",
    "#             transfer_to = discharge_loc\n",
    "#         elif care_unit and (not isinstance(care_unit, numbers.Number) or not isnan(care_unit)):\n",
    "#             transfer_from = last_transfer_from\n",
    "#             transfer_to = care_unit\n",
    "#         else:\n",
    "#             # Skip if within same unit (ward transfer)\n",
    "#             skipped_b.append(transfer)\n",
    "#             continue\n",
    "        \n",
    "#         if transfer_from != transfer_to:\n",
    "#             record_transfer_prob(transfer_from, transfer_to, gender, age_range, admission_time.hour)\n",
    "#         else:\n",
    "#             same_transfers.append(transfer)\n",
    "            \n",
    "#         # Keep track of name of last unit\n",
    "#         if care_unit:\n",
    "#             last_transfer_from = transfer_to\n",
    "#         else:\n",
    "#             last_transfer_from = transfer_to"
   ]
  },
  {
   "cell_type": "code",
   "execution_count": 22,
   "metadata": {
    "ExecuteTime": {
     "end_time": "2019-05-11T22:31:13.957493Z",
     "start_time": "2019-05-11T22:31:13.945427Z"
    },
    "pycharm": {}
   },
   "outputs": [],
   "source": [
    "a = [record[\"admission_location\"] for record in processed]"
   ]
  },
  {
   "cell_type": "code",
   "execution_count": null,
   "metadata": {
    "ExecuteTime": {
     "end_time": "2019-05-11T22:31:13.993038Z",
     "start_time": "2019-05-11T22:31:13.959628Z"
    },
    "pycharm": {}
   },
   "outputs": [],
   "source": [
    "set(a)"
   ]
  },
  {
   "cell_type": "code",
   "execution_count": null,
   "metadata": {
    "ExecuteTime": {
     "end_time": "2019-05-11T22:31:14.001417Z",
     "start_time": "2019-05-11T22:31:13.995161Z"
    },
    "pycharm": {}
   },
   "outputs": [],
   "source": [
    "counts.keys()"
   ]
  },
  {
   "cell_type": "code",
   "execution_count": null,
   "metadata": {
    "ExecuteTime": {
     "end_time": "2019-05-11T22:31:15.144736Z",
     "start_time": "2019-05-11T22:31:14.003546Z"
    },
    "pycharm": {}
   },
   "outputs": [],
   "source": [
    "counts"
   ]
  },
  {
   "cell_type": "markdown",
   "metadata": {
    "pycharm": {}
   },
   "source": [
    "### Explore counts"
   ]
  },
  {
   "cell_type": "code",
   "execution_count": 26,
   "metadata": {
    "ExecuteTime": {
     "end_time": "2019-05-11T22:31:15.159801Z",
     "start_time": "2019-05-11T22:31:15.147286Z"
    },
    "pycharm": {}
   },
   "outputs": [
    {
     "data": {
      "text/plain": [
       "261803"
      ]
     },
     "execution_count": 26,
     "metadata": {},
     "output_type": "execute_result"
    }
   ],
   "source": [
    "accumulator = 0\n",
    "for transfer_from, transfer_from_items in counts.items():\n",
    "    for age_range, age_range_items in transfer_from_items.items():\n",
    "        for gender, gender_items in age_range_items.items():\n",
    "            for admission_hour, admission_hour_items in gender_items.items():\n",
    "                accumulator += sum(admission_hour_items.values())\n",
    "accumulator"
   ]
  },
  {
   "cell_type": "code",
   "execution_count": 27,
   "metadata": {
    "ExecuteTime": {
     "end_time": "2019-05-11T22:31:15.169817Z",
     "start_time": "2019-05-11T22:31:15.161931Z"
    },
    "pycharm": {}
   },
   "outputs": [
    {
     "data": {
      "text/plain": [
       "0.9996410802720154"
      ]
     },
     "execution_count": 27,
     "metadata": {},
     "output_type": "execute_result"
    }
   ],
   "source": [
    "percent_of_transfers_used = accumulator / df.shape[0]\n",
    "percent_of_transfers_used"
   ]
  },
  {
   "cell_type": "markdown",
   "metadata": {
    "pycharm": {}
   },
   "source": [
    "### Compute probabilities"
   ]
  },
  {
   "cell_type": "code",
   "execution_count": 28,
   "metadata": {
    "ExecuteTime": {
     "end_time": "2019-05-11T22:31:15.226770Z",
     "start_time": "2019-05-11T22:31:15.171789Z"
    },
    "pycharm": {}
   },
   "outputs": [],
   "source": [
    "probabilities = {\n",
    "    transfer_from: {\n",
    "        age_range: {\n",
    "            gender: {\n",
    "                admission_hour: {\n",
    "                    transfer_to: count/sum(admission_hour_items.values()) for transfer_to, count in admission_hour_items.items()\n",
    "                } for admission_hour, admission_hour_items in gender_items.items()\n",
    "            } for gender, gender_items in age_range_items.items()\n",
    "        } for age_range, age_range_items in transfer_from_items.items()\n",
    "    } for transfer_from, transfer_from_items in counts.items()\n",
    "}"
   ]
  },
  {
   "cell_type": "markdown",
   "metadata": {
    "pycharm": {}
   },
   "source": [
    "### Export probabilities"
   ]
  },
  {
   "cell_type": "code",
   "execution_count": 29,
   "metadata": {
    "ExecuteTime": {
     "end_time": "2019-05-11T22:31:15.530192Z",
     "start_time": "2019-05-11T22:31:15.228474Z"
    },
    "pycharm": {}
   },
   "outputs": [],
   "source": [
    "with open(\"../json/probabilities.json\", \"w\") as f:\n",
    "    json.dump(probabilities, f)"
   ]
  },
  {
   "cell_type": "markdown",
   "metadata": {
    "pycharm": {}
   },
   "source": [
    "## Compute durations"
   ]
  },
  {
   "cell_type": "markdown",
   "metadata": {
    "pycharm": {}
   },
   "source": [
    "### Extract durations"
   ]
  },
  {
   "cell_type": "code",
   "execution_count": 30,
   "metadata": {
    "ExecuteTime": {
     "end_time": "2019-05-11T22:31:15.540668Z",
     "start_time": "2019-05-11T22:31:15.532977Z"
    },
    "pycharm": {}
   },
   "outputs": [],
   "source": [
    "def record_transfer_duration(transfer_from, gender, age_range, arrival_hour, duration):\n",
    "    if transfer_from not in durations:\n",
    "        durations[transfer_from] = {}\n",
    "    \n",
    "    if age_range not in durations[transfer_from]:\n",
    "        durations[transfer_from][age_range] = {}\n",
    "    \n",
    "    if gender not in durations[transfer_from][age_range]:\n",
    "        durations[transfer_from][age_range][gender] = {}\n",
    "        \n",
    "    if arrival_hour not in durations[transfer_from][age_range][gender]:\n",
    "        durations[transfer_from][age_range][gender][arrival_hour] = []\n",
    "        \n",
    "    durations[transfer_from][age_range][gender][arrival_hour].append(duration)"
   ]
  },
  {
   "cell_type": "code",
   "execution_count": 31,
   "metadata": {
    "ExecuteTime": {
     "end_time": "2019-05-11T22:31:26.691384Z",
     "start_time": "2019-05-11T22:31:15.543747Z"
    },
    "pycharm": {}
   },
   "outputs": [],
   "source": [
    "# durations\n",
    "durations = {}\n",
    "\n",
    "for record in processed:\n",
    "    # Extract record\n",
    "    admission_location = record[\"admission_location\"]\n",
    "    discharge_location = record[\"discharge_location\"]\n",
    "    gender = record[\"gender\"]\n",
    "    transfers = record[\"transfers\"]\n",
    "    dob = record[\"dob\"]\n",
    "    age_range = record[\"age_range\"]\n",
    "    admission_time = record[\"admission_time\"]\n",
    "    \n",
    "    # Process transfers\n",
    "    transfers_items = list(record[\"transfers\"].items())\n",
    "    \n",
    "    # Extract admission\n",
    "    admission_transfer = transfers_items[0]\n",
    "    discharge_transfer = transfers_items[-1]\n",
    "    transfers_to_process = transfers_items[1:-1]\n",
    "    \n",
    "    # Record admission\n",
    "    try:\n",
    "        record_transfer_duration(\n",
    "            admission_location,\n",
    "            gender, \n",
    "            age_range, \n",
    "            admission_time.hour,\n",
    "            relativedelta.relativedelta(admission_transfer[1][\"outtime\"], admission_transfer[1][\"intime\"])\n",
    "        )\n",
    "    except:\n",
    "        continue\n",
    "    \n",
    "    # Record transfers\n",
    "    last_unit = combine_careunit(admission_transfer[1][\"curr_careunit\"], admission_transfer[1][\"curr_ward\"])\n",
    "    \n",
    "    for timestamp, transfer in transfers_to_process:\n",
    "        in_time = transfer[\"intime\"]\n",
    "        out_time = transfer[\"outtime\"]\n",
    "        \n",
    "        try:\n",
    "            duration = relativedelta.relativedelta(out_time, in_time)\n",
    "        except:\n",
    "            continue\n",
    "        \n",
    "        transfer_to = combine_careunit(transfer[\"curr_careunit\"], transfer[\"curr_ward\"])\n",
    "        transfer_from = last_unit\n",
    "        record_transfer_duration(transfer_from, gender, age_range, admission_time.hour, duration)\n",
    "        last_unit = transfer_to\n",
    "        \n",
    "    # Record discharge\n",
    "    # No record is done!\n",
    "    \n",
    "    \n",
    "#     # Process transfers\n",
    "#     for timestamp, transfer in record[\"transfers\"].items():\n",
    "#         event_type = transfer[\"eventtype\"]\n",
    "#         care_unit = transfer[\"prev_careunit\"]\n",
    "#         care\n",
    "#         in_time = transfer[\"intime\"]\n",
    "#         out_time = transfer[\"outtime\"]\n",
    "        \n",
    "        \n",
    "#         try:\n",
    "#             duration = relativedelta.relativedelta(out_time, in_time)\n",
    "#         except:\n",
    "#             continue\n",
    "        \n",
    "        \n",
    "#         if event_type == \"admit\":\n",
    "#             if not care_unit or (isinstance(care_unit, numbers.Number) and isnan(care_unit)):\n",
    "#                 continue\n",
    "#             transfer_from = admission_loc\n",
    "#             transfer_to = care_unit\n",
    "#         elif event_type == \"discharge\":\n",
    "#             transfer_from = last_transfer_from\n",
    "#             transfer_to = discharge_loc\n",
    "#         elif care_unit and (not isinstance(care_unit, numbers.Number) or not isnan(care_unit)):\n",
    "#             transfer_from = last_transfer_from\n",
    "#             transfer_to = care_unit\n",
    "#         else:\n",
    "#             # Skip if within same unit (ward transfer)\n",
    "#             continue\n",
    "        \n",
    "#         if transfer_from != transfer_to:\n",
    "#             record_transfer_duration(transfer_from, gender, age_range, admission_time.hour, duration)\n",
    "            \n",
    "#         # Keep track of name of last unit\n",
    "#         if care_unit:\n",
    "#             last_transfer_from = care_unit"
   ]
  },
  {
   "cell_type": "markdown",
   "metadata": {
    "pycharm": {}
   },
   "source": [
    "### Explore durations"
   ]
  },
  {
   "cell_type": "markdown",
   "metadata": {
    "pycharm": {}
   },
   "source": [
    "### Compute medians"
   ]
  },
  {
   "cell_type": "code",
   "execution_count": 32,
   "metadata": {
    "ExecuteTime": {
     "end_time": "2019-05-11T22:31:26.696853Z",
     "start_time": "2019-05-11T22:31:26.693211Z"
    },
    "pycharm": {}
   },
   "outputs": [],
   "source": [
    "def total_seconds(rd, _yeardays=365.2425, _monthdays=365.2425/12):\n",
    "    \"\"\"approximation of the number of seconds in a relative delta\"\"\"\n",
    "    # year and month durations are averages, taking into account leap years\n",
    "    total_days = rd.years * _yeardays + (rd.months * _monthdays) + rd.days\n",
    "    total_hours = total_days * 24 + rd.hours\n",
    "    total_minutes = total_hours * 60 + rd.minutes\n",
    "    return total_minutes * 60 + rd.seconds + (rd.microseconds / 1000000)"
   ]
  },
  {
   "cell_type": "code",
   "execution_count": 33,
   "metadata": {
    "ExecuteTime": {
     "end_time": "2019-05-11T22:31:26.982120Z",
     "start_time": "2019-05-11T22:31:26.699540Z"
    },
    "pycharm": {}
   },
   "outputs": [],
   "source": [
    "median_durations = {\n",
    "    transfer_from: {\n",
    "        age_range: {\n",
    "            gender: {\n",
    "                admission_hour: statistics.median([total_seconds(value) for value in admission_hour_items])\n",
    "                for admission_hour, admission_hour_items in gender_items.items()\n",
    "            } for gender, gender_items in age_range_items.items()\n",
    "        } for age_range, age_range_items in transfer_from_items.items()\n",
    "    } for transfer_from, transfer_from_items in durations.items()\n",
    "}"
   ]
  },
  {
   "cell_type": "markdown",
   "metadata": {
    "pycharm": {}
   },
   "source": [
    "### Export median durations"
   ]
  },
  {
   "cell_type": "code",
   "execution_count": 34,
   "metadata": {
    "ExecuteTime": {
     "end_time": "2019-05-11T22:31:27.020418Z",
     "start_time": "2019-05-11T22:31:26.985189Z"
    },
    "pycharm": {}
   },
   "outputs": [],
   "source": [
    "with open(\"../json/median_durations.json\", \"w\") as f:\n",
    "    json.dump(median_durations, f)"
   ]
  },
  {
   "cell_type": "markdown",
   "metadata": {
    "pycharm": {}
   },
   "source": [
    "## Create Model"
   ]
  },
  {
   "cell_type": "markdown",
   "metadata": {
    "pycharm": {}
   },
   "source": [
    "### Examine possible states"
   ]
  },
  {
   "cell_type": "code",
   "execution_count": null,
   "metadata": {
    "ExecuteTime": {
     "end_time": "2019-05-11T22:31:27.043695Z",
     "start_time": "2019-05-11T22:31:27.023100Z"
    },
    "pycharm": {}
   },
   "outputs": [],
   "source": [
    "possible_states = list(probabilities.keys())\n",
    "for from_state, from_items in probabilities.items():\n",
    "    for age, age_items in from_items.items():\n",
    "        for gender, gender_items in age_items.items():\n",
    "            for arrival_hour, arrival_hour_items in gender_items.items():\n",
    "                possible_states.extend(arrival_hour_items.keys())\n",
    "possible_states = set(possible_states)\n",
    "possible_states"
   ]
  },
  {
   "cell_type": "code",
   "execution_count": 36,
   "metadata": {
    "ExecuteTime": {
     "end_time": "2019-05-11T22:31:27.048499Z",
     "start_time": "2019-05-11T22:31:27.046068Z"
    },
    "pycharm": {}
   },
   "outputs": [],
   "source": [
    "# print(json.dumps(probabilities))"
   ]
  },
  {
   "cell_type": "code",
   "execution_count": null,
   "metadata": {
    "ExecuteTime": {
     "end_time": "2019-05-11T22:31:27.060594Z",
     "start_time": "2019-05-11T22:31:27.050769Z"
    },
    "pycharm": {}
   },
   "outputs": [],
   "source": [
    "{ age_range: { gender: { arrival_hour: duration/3600 for arrival_hour, duration in gender_items.items()}\n",
    "  for gender, gender_items in age_range_items.items()}\n",
    " for age_range, age_range_items in median_durations[\"27.0_OUTSIDE ICU\"].items()}"
   ]
  },
  {
   "cell_type": "markdown",
   "metadata": {
    "ExecuteTime": {
     "end_time": "2019-04-06T01:03:28.614930Z",
     "start_time": "2019-04-06T01:03:28.610924Z"
    },
    "pycharm": {}
   },
   "source": [
    "## Prepare inputs to model"
   ]
  },
  {
   "cell_type": "markdown",
   "metadata": {
    "collapsed": true,
    "pycharm": {}
   },
   "source": [
    "### Import raw inputs"
   ]
  },
  {
   "cell_type": "code",
   "execution_count": 38,
   "metadata": {
    "ExecuteTime": {
     "end_time": "2019-05-11T22:32:10.320752Z",
     "start_time": "2019-05-11T22:31:27.063980Z"
    },
    "pycharm": {}
   },
   "outputs": [],
   "source": [
    "# Import inputs\n",
    "df = pd.read_csv('../sql/SELECT_____________SELECT_string_agg_icd.csv')\n",
    "df['admittime'] = pd.to_datetime(df['intime'], format='%Y-%m-%d %H:%M:%S')\n",
    "df['intime'] = pd.to_datetime(df['intime'], format='%Y-%m-%d %H:%M:%S')\n",
    "df['outtime'] = pd.to_datetime(df['outtime'], format='%Y-%m-%d %H:%M:%S')\n",
    "df['dob'] = pd.to_datetime(df['dob'], format='%Y-%m-%d %H:%M:%S')\n",
    "\n",
    "df_by_hadm = df.groupby(by=\"hadm_id\")\n",
    "\n",
    "\n",
    "processed_inputs = []\n",
    "for name, group in df_by_admission_id:\n",
    "    admission_loc = [item for key, item in group[\"admission_location\"].items()][0]\n",
    "    discharge_loc = [item for key, item in group[\"discharge_location\"].items()][0]\n",
    "    admission_time = [item for key, item in group[\"admittime\"].items()][0]\n",
    "    dob = [item for key, item in group[\"dob\"].items()][0]\n",
    "    gender = [item for key, item in group[\"gender\"].items()][0]\n",
    "    \n",
    "    try:\n",
    "        age = relativedelta.relativedelta(admission_time, dob).years\n",
    "    except:\n",
    "        continue\n",
    "    if age >= 65:\n",
    "        age_range = 65\n",
    "    elif age >= 25:\n",
    "        age_range = 25\n",
    "    elif age >= 15:\n",
    "        age_range = 15\n",
    "    else:\n",
    "        age_range = 0\n",
    "    \n",
    "    \n",
    "    processed_inputs.append({\n",
    "        \"admission_location\": admission_loc,\n",
    "        \"gender\": gender,\n",
    "        \"age_range\": age_range,\n",
    "        \"admission_hour\": admission_time.hour\n",
    "    })\n",
    "\n",
    "inputs = processed_inputs"
   ]
  },
  {
   "cell_type": "code",
   "execution_count": 39,
   "metadata": {
    "ExecuteTime": {
     "end_time": "2019-05-11T22:32:10.325340Z",
     "start_time": "2019-05-11T22:32:10.322323Z"
    },
    "pycharm": {}
   },
   "outputs": [
    {
     "data": {
      "text/plain": [
       "58952"
      ]
     },
     "execution_count": 39,
     "metadata": {},
     "output_type": "execute_result"
    }
   ],
   "source": [
    "len(inputs)"
   ]
  },
  {
   "cell_type": "markdown",
   "metadata": {
    "pycharm": {}
   },
   "source": [
    "### Group inputs by time"
   ]
  },
  {
   "cell_type": "code",
   "execution_count": 40,
   "metadata": {
    "ExecuteTime": {
     "end_time": "2019-05-11T22:32:10.345597Z",
     "start_time": "2019-05-11T22:32:10.327076Z"
    },
    "pycharm": {}
   },
   "outputs": [],
   "source": [
    "grouped_inputs = {}\n",
    "for processed_input in processed_inputs:\n",
    "    admission_hour = processed_input[\"admission_hour\"]\n",
    "    \n",
    "    if admission_hour not in grouped_inputs:\n",
    "        grouped_inputs[admission_hour] = []\n",
    "        \n",
    "    grouped_inputs[admission_hour].append(processed_input)"
   ]
  },
  {
   "cell_type": "code",
   "execution_count": 41,
   "metadata": {
    "ExecuteTime": {
     "end_time": "2019-05-11T22:32:10.352929Z",
     "start_time": "2019-05-11T22:32:10.347378Z"
    },
    "pycharm": {}
   },
   "outputs": [
    {
     "data": {
      "text/plain": [
       "24"
      ]
     },
     "execution_count": 41,
     "metadata": {},
     "output_type": "execute_result"
    }
   ],
   "source": [
    "len(grouped_inputs)"
   ]
  },
  {
   "cell_type": "markdown",
   "metadata": {
    "pycharm": {}
   },
   "source": [
    "## The Model"
   ]
  },
  {
   "cell_type": "markdown",
   "metadata": {
    "pycharm": {}
   },
   "source": [
    "### Prepare initial state of model"
   ]
  },
  {
   "cell_type": "code",
   "execution_count": 42,
   "metadata": {
    "ExecuteTime": {
     "end_time": "2019-05-11T22:32:10.358734Z",
     "start_time": "2019-05-11T22:32:10.354780Z"
    },
    "pycharm": {}
   },
   "outputs": [],
   "source": [
    "def fetch_median_departure(median_durations, item):\n",
    "    return median_durations[item['admission_location']][item['age_range']][item['gender']][item['admission_hour']] / 3600\n",
    "\n",
    "def fetch_next_transition(probabilities, item, location):\n",
    "    transition_probabilities = probabilities[location][item['age_range']][item['gender']][item['admission_hour']]\n",
    "#     print(item)\n",
    "#     print(\"choices: {}. weights: {}\".format(\n",
    "#         list(transition_probabilities.keys()), \n",
    "#         list(transition_probabilities.values())\n",
    "#     ))\n",
    "    state_next = random.choices(\n",
    "        list(transition_probabilities.keys()),\n",
    "        weights=list(transition_probabilities.values()),\n",
    "        k=1\n",
    "    )[0]\n",
    "    \n",
    "    return state_next"
   ]
  },
  {
   "cell_type": "code",
   "execution_count": 43,
   "metadata": {
    "ExecuteTime": {
     "end_time": "2019-05-11T22:32:10.365979Z",
     "start_time": "2019-05-11T22:32:10.360434Z"
    },
    "pycharm": {}
   },
   "outputs": [],
   "source": [
    "t_prob = probabilities[\"52.0_MICU\"][15][\"F\"][4]"
   ]
  },
  {
   "cell_type": "code",
   "execution_count": null,
   "metadata": {
    "ExecuteTime": {
     "end_time": "2019-05-11T22:32:10.376193Z",
     "start_time": "2019-05-11T22:32:10.368612Z"
    },
    "pycharm": {}
   },
   "outputs": [],
   "source": [
    "random.choices(\n",
    "        list(t_prob.keys()),\n",
    "        weights=list(t_prob.values()),\n",
    "        k=100\n",
    "    )"
   ]
  },
  {
   "cell_type": "code",
   "execution_count": 45,
   "metadata": {
    "ExecuteTime": {
     "end_time": "2019-05-11T22:32:10.382766Z",
     "start_time": "2019-05-11T22:32:10.378280Z"
    },
    "pycharm": {}
   },
   "outputs": [],
   "source": [
    "timeslot = 0\n",
    "timeslots = []\n",
    "wip = {}\n",
    "#MAX_TIMESLOTS = 1000\n",
    "MAX_DAYS = 14\n",
    "MAX_TIMESLOTS = MAX_DAYS * 24"
   ]
  },
  {
   "cell_type": "code",
   "execution_count": 46,
   "metadata": {
    "ExecuteTime": {
     "end_time": "2019-05-11T22:32:10.389587Z",
     "start_time": "2019-05-11T22:32:10.385069Z"
    },
    "pycharm": {}
   },
   "outputs": [],
   "source": [
    "#test_grouped_inputs = {0: [grouped_inputs[0][0]]}\n",
    "#test_grouped_inputs\n",
    "test_grouped_inputs = grouped_inputs"
   ]
  },
  {
   "cell_type": "markdown",
   "metadata": {
    "pycharm": {}
   },
   "source": [
    "### Run the Model"
   ]
  },
  {
   "cell_type": "code",
   "execution_count": 47,
   "metadata": {
    "ExecuteTime": {
     "end_time": "2019-05-11T22:32:10.396662Z",
     "start_time": "2019-05-11T22:32:10.392030Z"
    }
   },
   "outputs": [],
   "source": [
    "# with open('timeslots.pickle', 'rb') as f:\n",
    "#     timeslots = pickle.load(f, pickle.HIGHEST_PROTOCOL)"
   ]
  },
  {
   "cell_type": "code",
   "execution_count": null,
   "metadata": {
    "ExecuteTime": {
     "end_time": "2019-05-11T22:32:53.504927Z",
     "start_time": "2019-05-11T22:32:10.399045Z"
    },
    "deletable": false,
    "editable": false,
    "pycharm": {},
    "run_control": {
     "frozen": true
    }
   },
   "outputs": [],
   "source": [
    "while True:\n",
    "    items_in_model = sum([len(item) for item in wip.values()])\n",
    "    print (\"Timeslot: {}. # of items in model: {}. {}.\".format(\n",
    "        timeslot,\n",
    "        items_in_model,\n",
    "        'No inputs to process' if timeslot not in grouped_inputs else 'Inputs to process'\n",
    "    ))\n",
    "\n",
    "    new_wip = {}\n",
    "    \n",
    "    # Track progress\n",
    "    changed_counter = 0\n",
    "    unchanged_counter = 0\n",
    "    frozen_counter = 0\n",
    "    added_counter = 0\n",
    "    processed_counter = 0\n",
    "\n",
    "    # Handle inputs\n",
    "\n",
    "    if timeslot in test_grouped_inputs:\n",
    "        for input_item in test_grouped_inputs[timeslot]:\n",
    "            admission_location = input_item['admission_location']\n",
    "            if admission_location not in new_wip:\n",
    "                new_wip[admission_location] = []\n",
    "            added_counter = added_counter + 1\n",
    "            new_wip[admission_location].append((input_item, timeslot))\n",
    "\n",
    "    # Process records in dataset!\n",
    "\n",
    "    for location, items in wip.items():\n",
    "        for item, arrival_timeslot in items:\n",
    "            # Process each item from previous state of model\n",
    "            processed_counter += 1\n",
    "            median_departure_timeslot = fetch_median_departure(median_durations, item)\n",
    "\n",
    "            # Should it depart?\n",
    "            if (arrival_timeslot + median_departure_timeslot) <= timeslot:\n",
    "                # Depart!\n",
    "                \n",
    "                try:\n",
    "                    state_next = fetch_next_transition(probabilities, item, location)\n",
    "                    changed_counter += 1\n",
    "                except:\n",
    "                    frozen_counter += 1\n",
    "                    state_next = location\n",
    "\n",
    "                # Move to next step\n",
    "                if state_next not in new_wip:\n",
    "                    new_wip[state_next] = []\n",
    "                new_wip[state_next].append((item, timeslot))\n",
    "                \n",
    "            else:\n",
    "#                 print(\"arrival: {}; median: {}; combined: {}; current: {}; location: {}\".format(\n",
    "#                     arrival_timeslot,\n",
    "#                     median_departure_timeslot,\n",
    "#                     arrival_timeslot + median_departure_timeslot,\n",
    "#                     timeslot,\n",
    "#                     location\n",
    "#                 ))\n",
    "                \n",
    "                # Keep it in place\n",
    "                unchanged_counter += 1\n",
    "                if location not in new_wip:\n",
    "                    new_wip[location] = []\n",
    "                new_wip[location].append((item, arrival_timeslot))\n",
    "\n",
    "    # Report changes summary\n",
    "    print(\"\\tProcessed {}. Changed: {} ({}). Frozen: {} ({}). Unchanged: {} ({}). Added: {} ({}).\".format(\n",
    "        processed_counter,\n",
    "        changed_counter, round(changed_counter/items_in_model, 2) if items_in_model > 0 else 0,\n",
    "        frozen_counter, round(frozen_counter/items_in_model, 2) if items_in_model > 0 else 0,\n",
    "        unchanged_counter, round(unchanged_counter/items_in_model, 2) if items_in_model > 0 else 0,\n",
    "        added_counter, round(added_counter/items_in_model, 2) if items_in_model > 0 else 0,\n",
    "    ))\n",
    "    print ()\n",
    "    \n",
    "    # Next timeslot!\n",
    "    timeslots.append(new_wip.copy())\n",
    "    timeslot += 1\n",
    "    wip = new_wip.copy()\n",
    "\n",
    "    # Break the cycle!\n",
    "    if timeslot == MAX_TIMESLOTS:\n",
    "        break"
   ]
  },
  {
   "cell_type": "markdown",
   "metadata": {
    "pycharm": {}
   },
   "source": [
    "### Run model"
   ]
  },
  {
   "cell_type": "code",
   "execution_count": 49,
   "metadata": {
    "ExecuteTime": {
     "end_time": "2019-05-11T22:32:53.512477Z",
     "start_time": "2019-05-11T22:32:53.507149Z"
    },
    "pycharm": {}
   },
   "outputs": [
    {
     "data": {
      "text/plain": [
       "336"
      ]
     },
     "execution_count": 49,
     "metadata": {},
     "output_type": "execute_result"
    }
   ],
   "source": [
    "len(timeslots)"
   ]
  },
  {
   "cell_type": "code",
   "execution_count": 50,
   "metadata": {
    "ExecuteTime": {
     "end_time": "2019-05-11T22:32:53.564022Z",
     "start_time": "2019-05-11T22:32:53.515589Z"
    },
    "pycharm": {}
   },
   "outputs": [],
   "source": [
    "track_changes = []\n",
    "track_changes_summary = []\n",
    "\n",
    "# Initial slot\n",
    "track_changes.append({key: len(items) for key, items in timeslots[0].items()})\n",
    "track_changes_summary.append(sum([len(items) for key, items in timeslots[0].items()]))\n",
    "\n",
    "# Subsequent slots\n",
    "for i, items in enumerate(zip(timeslots[1:], timeslots)):\n",
    "    timeslot_differences = {}\n",
    "    \n",
    "    timeslot = i\n",
    "    curr_items, prev_items = items\n",
    "    keys = set(curr_items.keys())\n",
    "    keys |= set(prev_items.keys())\n",
    "    for key in keys:\n",
    "        curr_count = len(curr_items.get(key, []))\n",
    "        prev_count = len(prev_items.get(key, []))\n",
    "        difference = curr_count - prev_count\n",
    "        \n",
    "        timeslot_differences[key] = difference\n",
    "        \n",
    "    track_changes.append(timeslot_differences)\n",
    "    track_changes_summary.append(sum([abs(count) for key, count in timeslot_differences.items()]))"
   ]
  },
  {
   "cell_type": "code",
   "execution_count": null,
   "metadata": {
    "ExecuteTime": {
     "end_time": "2019-05-11T22:32:53.574485Z",
     "start_time": "2019-05-11T22:32:53.566393Z"
    },
    "pycharm": {}
   },
   "outputs": [],
   "source": [
    "track_changes_summary"
   ]
  },
  {
   "cell_type": "code",
   "execution_count": 52,
   "metadata": {
    "ExecuteTime": {
     "end_time": "2019-05-11T22:32:53.587785Z",
     "start_time": "2019-05-11T22:32:53.576907Z"
    },
    "pycharm": {},
    "scrolled": true
   },
   "outputs": [],
   "source": [
    "condensed_timeslots = {timeslot: {label: len(items) for label, items in timeslot_items.items()} \n",
    " for timeslot, timeslot_items in enumerate(timeslots)}"
   ]
  },
  {
   "cell_type": "code",
   "execution_count": null,
   "metadata": {
    "ExecuteTime": {
     "end_time": "2019-05-11T22:32:53.958922Z",
     "start_time": "2019-05-11T22:32:53.590013Z"
    },
    "pycharm": {}
   },
   "outputs": [],
   "source": [
    "track_changes"
   ]
  },
  {
   "cell_type": "code",
   "execution_count": 54,
   "metadata": {
    "ExecuteTime": {
     "end_time": "2019-05-11T22:32:53.970125Z",
     "start_time": "2019-05-11T22:32:53.960563Z"
    },
    "pycharm": {}
   },
   "outputs": [],
   "source": [
    "last_slot = list({timeslot: {label: len(items) for label, items in timeslot_items.items()} \n",
    " for timeslot, timeslot_items in enumerate(timeslots)}.items())[-1]"
   ]
  },
  {
   "cell_type": "code",
   "execution_count": null,
   "metadata": {
    "ExecuteTime": {
     "end_time": "2019-05-11T22:32:53.988799Z",
     "start_time": "2019-05-11T22:32:53.972751Z"
    },
    "pycharm": {}
   },
   "outputs": [],
   "source": [
    "[(place, count/sum(last_slot[1].values())) for place, count in sorted(last_slot[1].items(), key=lambda x: x[1], reverse=True)]"
   ]
  },
  {
   "cell_type": "markdown",
   "metadata": {},
   "source": [
    "## Prepare Visualization"
   ]
  },
  {
   "cell_type": "code",
   "execution_count": 56,
   "metadata": {
    "ExecuteTime": {
     "end_time": "2019-05-11T22:32:54.001576Z",
     "start_time": "2019-05-11T22:32:53.991159Z"
    }
   },
   "outputs": [
    {
     "data": {
      "text/plain": [
       "{'** INFO NOT AVAILABLE **',\n",
       " 'CLINIC REFERRAL/PREMATURE',\n",
       " 'EMERGENCY ROOM ADMIT',\n",
       " 'HMO REFERRAL/SICK',\n",
       " 'PHYS REFERRAL/NORMAL DELI',\n",
       " 'TRANSFER FROM HOSP/EXTRAM',\n",
       " 'TRANSFER FROM OTHER HEALT',\n",
       " 'TRANSFER FROM SKILLED NUR',\n",
       " 'TRSF WITHIN THIS FACILITY'}"
      ]
     },
     "execution_count": 56,
     "metadata": {},
     "output_type": "execute_result"
    }
   ],
   "source": [
    "visualization_input_locations = {input['admission_location'] for input in inputs}\n",
    "visualization_input_locations"
   ]
  },
  {
   "cell_type": "code",
   "execution_count": 57,
   "metadata": {
    "ExecuteTime": {
     "end_time": "2019-05-11T22:32:54.012989Z",
     "start_time": "2019-05-11T22:32:54.005065Z"
    }
   },
   "outputs": [],
   "source": [
    "destination_locations = possible_states - visualization_input_locations\n",
    "# destination_locations"
   ]
  },
  {
   "cell_type": "code",
   "execution_count": 58,
   "metadata": {
    "ExecuteTime": {
     "end_time": "2019-05-11T22:32:54.025740Z",
     "start_time": "2019-05-11T22:32:54.018571Z"
    }
   },
   "outputs": [],
   "source": [
    "exit_locations = destination_locations - set(probabilities.keys())\n",
    "# exit_locations"
   ]
  },
  {
   "cell_type": "code",
   "execution_count": 59,
   "metadata": {
    "ExecuteTime": {
     "end_time": "2019-05-11T22:32:54.038910Z",
     "start_time": "2019-05-11T22:32:54.033711Z"
    }
   },
   "outputs": [],
   "source": [
    "intermediate_locations = destination_locations - exit_locations\n",
    "# intermediate_locations"
   ]
  },
  {
   "cell_type": "code",
   "execution_count": 60,
   "metadata": {
    "ExecuteTime": {
     "end_time": "2019-05-11T22:32:54.066652Z",
     "start_time": "2019-05-11T22:32:54.050279Z"
    }
   },
   "outputs": [],
   "source": [
    "# Combine & export\n",
    "locations = {\n",
    "    'admission_locations': list(visualization_input_locations),\n",
    "    'discharge_locations': list(exit_locations),\n",
    "    'intermediate_locations': list(intermediate_locations)\n",
    "}\n",
    "\n",
    "with open(\"locations.json\", \"w\") as f:\n",
    "    json.dump(locations, f)"
   ]
  },
  {
   "cell_type": "code",
   "execution_count": 61,
   "metadata": {
    "ExecuteTime": {
     "end_time": "2019-05-11T22:33:03.788854Z",
     "start_time": "2019-05-11T22:32:54.070036Z"
    }
   },
   "outputs": [],
   "source": [
    "with open('timeslots.pickle', 'wb') as f:\n",
    "    pickle.dump(timeslots, f, pickle.HIGHEST_PROTOCOL)"
   ]
  },
  {
   "cell_type": "code",
   "execution_count": 62,
   "metadata": {
    "ExecuteTime": {
     "end_time": "2019-05-11T22:33:03.804481Z",
     "start_time": "2019-05-11T22:33:03.791489Z"
    }
   },
   "outputs": [],
   "source": [
    "timeslots_summary = [{location: len(items) for location, items in timeslot.items()} for timeslot in timeslots]"
   ]
  },
  {
   "cell_type": "code",
   "execution_count": 63,
   "metadata": {
    "ExecuteTime": {
     "end_time": "2019-05-11T22:33:03.872042Z",
     "start_time": "2019-05-11T22:33:03.806632Z"
    }
   },
   "outputs": [],
   "source": [
    "with open(\"timeslots_summary.json\", \"w\") as f:\n",
    "    json.dump(timeslots_summary, f)"
   ]
  },
  {
   "cell_type": "code",
   "execution_count": 64,
   "metadata": {
    "ExecuteTime": {
     "end_time": "2019-05-11T22:33:03.891760Z",
     "start_time": "2019-05-11T22:33:03.874396Z"
    }
   },
   "outputs": [],
   "source": [
    "inputs_count = {}\n",
    "for row in inputs:\n",
    "    if row[\"admission_location\"] not in inputs_count:\n",
    "        inputs_count[row[\"admission_location\"]] = 0\n",
    "    inputs_count[row[\"admission_location\"]] += 1\n",
    "\n",
    "with open(\"inputs_count.json\", \"w\") as f:\n",
    "    json.dump(inputs_count, f)"
   ]
  },
  {
   "cell_type": "markdown",
   "metadata": {},
   "source": [
    "## Validation"
   ]
  },
  {
   "cell_type": "code",
   "execution_count": 65,
   "metadata": {
    "ExecuteTime": {
     "end_time": "2019-05-11T22:33:03.898965Z",
     "start_time": "2019-05-11T22:33:03.894127Z"
    }
   },
   "outputs": [],
   "source": [
    "processed_records = 0\n",
    "failed_records = 0\n",
    "success_records = 0"
   ]
  },
  {
   "cell_type": "code",
   "execution_count": 88,
   "metadata": {
    "ExecuteTime": {
     "end_time": "2019-05-11T22:56:28.498543Z",
     "start_time": "2019-05-11T22:56:28.495484Z"
    }
   },
   "outputs": [
    {
     "name": "stdout",
     "output_type": "stream",
     "text": [
      "failed: 702, success: 200896, processed: 202371\n"
     ]
    }
   ],
   "source": [
    "print(\"failed: {}, success: {}, processed: {}\".format(failed_records, success_records, processed_records))"
   ]
  },
  {
   "cell_type": "code",
   "execution_count": 67,
   "metadata": {
    "ExecuteTime": {
     "end_time": "2019-05-11T22:33:03.915751Z",
     "start_time": "2019-05-11T22:33:03.908712Z"
    }
   },
   "outputs": [],
   "source": [
    "# def record_offsets(admission_time, start_time, end_time, location):\n",
    "def record_offsets(admission_time, start_time, end_time, location):\n",
    "    global failed_records\n",
    "    global success_records\n",
    "    global processed_records\n",
    "    processed_records += 1\n",
    "    arrival_intime = relativedelta.relativedelta(start_time, admission_time)\n",
    "    intime_outtime = relativedelta.relativedelta(end_time, start_time)\n",
    "    start_slot = arrival_intime.months * 30 * 24 + arrival_intime.days * 24 + arrival_intime.hours + admission_time.hour\n",
    "    end_slot = intime_outtime.months * 30 * 24 + intime_outtime.days * 24 + intime_outtime.hours + start_slot\n",
    "    \n",
    "    if start_slot < 0 or end_slot < 0:\n",
    "        print(\"Start: {}. End: {}. Location: {}\".format(start_slot, end_slot, location))\n",
    "        print(admission_time)\n",
    "        print(start_time)\n",
    "        failed_records += 1\n",
    "        return False\n",
    "    else:\n",
    "        success_records  += 1\n",
    "\n",
    "    for timeslot in range(start_slot, end_slot):\n",
    "        if timeslot not in validate_timeslots:\n",
    "            validate_timeslots[timeslot] = {}\n",
    "        if location not in validate_timeslots[timeslot]:\n",
    "            validate_timeslots[timeslot][location] = 0\n",
    "        validate_timeslots[timeslot][location] += 1\n",
    "    \n",
    "    return True\n",
    "        "
   ]
  },
  {
   "cell_type": "code",
   "execution_count": null,
   "metadata": {
    "ExecuteTime": {
     "end_time": "2019-05-11T22:33:29.685716Z",
     "start_time": "2019-05-11T22:33:03.918074Z"
    }
   },
   "outputs": [],
   "source": [
    "# durations\n",
    "validate_timeslots = {}\n",
    "\n",
    "for record in processed:\n",
    "    transfers = record[\"transfers\"]\n",
    "    admission_time = record[\"admission_time\"]\n",
    "    admission_location = record[\"admission_location\"]\n",
    "    \n",
    "    # Process transfers\n",
    "    transfers_items = list(record[\"transfers\"].items())\n",
    "    \n",
    "    # Extract admission\n",
    "    admission_transfer = transfers_items[0]\n",
    "    discharge_transfer = transfers_items[-1]\n",
    "    transfers_to_process = transfers_items[1:-1]\n",
    "    \n",
    "    # Record admission\n",
    "    result = False\n",
    "    try:\n",
    "        result = record_offsets(\n",
    "            admission_time,\n",
    "            admission_time,\n",
    "            admission_transfer[1][\"outtime\"],\n",
    "            admission_location\n",
    "        )\n",
    "    except:\n",
    "        continue\n",
    "        \n",
    "    if not result:\n",
    "        continue\n",
    "\n",
    "#     record_offsets(\n",
    "#         admission_time,\n",
    "#         admission_time,\n",
    "#         admission_transfer[1][\"outtime\"],\n",
    "#         admission_location,\n",
    "#         validate_timeslots,\n",
    "#         failed_records,\n",
    "#         success_records\n",
    "#     )\n",
    "    \n",
    "    # Record transfers\n",
    "    last_unit = combine_careunit(admission_transfer[1][\"curr_careunit\"], admission_transfer[1][\"curr_ward\"])\n",
    "    \n",
    "    for timestamp, transfer in transfers_to_process:\n",
    "        in_time = transfer[\"intime\"]\n",
    "        out_time = transfer[\"outtime\"]\n",
    "        \n",
    "        \n",
    "        transfer_to = combine_careunit(transfer[\"curr_careunit\"], transfer[\"curr_ward\"])\n",
    "        transfer_from = last_unit\n",
    "        \n",
    "        try:\n",
    "            record_offsets(\n",
    "                admission_time,\n",
    "                in_time,\n",
    "                out_time,\n",
    "                transfer_from\n",
    "            )\n",
    "        except:\n",
    "            continue\n",
    "        last_unit = transfer_to\n",
    "        \n",
    "    \n",
    "#     # Record discharge\n",
    "#     if out_time.hour not in validate_timeslots:\n",
    "#         validate_timeslots[out_time.hour] = {}\n",
    "#     if location not in validate_timeslots[out_time.hour]:\n",
    "#         validate_timeslots[out_time.hour][discharge_location] = 0\n",
    "#     validate_timeslots[out_time.hour][discharge_location] += 1"
   ]
  },
  {
   "cell_type": "markdown",
   "metadata": {
    "ExecuteTime": {
     "end_time": "2019-04-23T03:40:53.410506Z",
     "start_time": "2019-04-23T03:40:53.406506Z"
    }
   },
   "source": [
    "###### len(validate_timeslots)"
   ]
  },
  {
   "cell_type": "code",
   "execution_count": null,
   "metadata": {
    "ExecuteTime": {
     "end_time": "2019-05-11T22:33:29.692122Z",
     "start_time": "2019-05-11T22:33:29.688265Z"
    },
    "scrolled": true
   },
   "outputs": [],
   "source": [
    "validate_timeslots.keys()"
   ]
  },
  {
   "cell_type": "code",
   "execution_count": 70,
   "metadata": {
    "ExecuteTime": {
     "end_time": "2019-05-11T22:33:29.703018Z",
     "start_time": "2019-05-11T22:33:29.693887Z"
    }
   },
   "outputs": [
    {
     "data": {
      "text/plain": [
       "{'2.0_OUTSIDE ICU': 1}"
      ]
     },
     "execution_count": 70,
     "metadata": {},
     "output_type": "execute_result"
    }
   ],
   "source": [
    "validate_timeslots[max(validate_timeslots.keys())]"
   ]
  },
  {
   "cell_type": "code",
   "execution_count": null,
   "metadata": {
    "ExecuteTime": {
     "end_time": "2019-05-11T22:33:29.716285Z",
     "start_time": "2019-05-11T22:33:29.704975Z"
    }
   },
   "outputs": [],
   "source": [
    "validate_timeslots[1]"
   ]
  },
  {
   "cell_type": "markdown",
   "metadata": {},
   "source": [
    "## MSE"
   ]
  },
  {
   "cell_type": "code",
   "execution_count": 72,
   "metadata": {
    "ExecuteTime": {
     "end_time": "2019-05-11T22:33:29.728060Z",
     "start_time": "2019-05-11T22:33:29.720128Z"
    }
   },
   "outputs": [
    {
     "data": {
      "text/plain": [
       "336"
      ]
     },
     "execution_count": 72,
     "metadata": {},
     "output_type": "execute_result"
    }
   ],
   "source": [
    "len(condensed_timeslots)"
   ]
  },
  {
   "cell_type": "code",
   "execution_count": 73,
   "metadata": {
    "ExecuteTime": {
     "end_time": "2019-05-11T22:33:29.737632Z",
     "start_time": "2019-05-11T22:33:29.731612Z"
    }
   },
   "outputs": [
    {
     "data": {
      "text/plain": [
       "7647"
      ]
     },
     "execution_count": 73,
     "metadata": {},
     "output_type": "execute_result"
    }
   ],
   "source": [
    "len(validate_timeslots)"
   ]
  },
  {
   "cell_type": "code",
   "execution_count": null,
   "metadata": {
    "ExecuteTime": {
     "end_time": "2019-05-11T22:33:29.744190Z",
     "start_time": "2019-05-11T22:33:29.739863Z"
    }
   },
   "outputs": [],
   "source": [
    "condensed_timeslots[0]"
   ]
  },
  {
   "cell_type": "code",
   "execution_count": null,
   "metadata": {
    "ExecuteTime": {
     "end_time": "2019-05-11T22:33:29.752032Z",
     "start_time": "2019-05-11T22:33:29.746284Z"
    }
   },
   "outputs": [],
   "source": [
    "validate_timeslots[0]"
   ]
  },
  {
   "cell_type": "code",
   "execution_count": 76,
   "metadata": {
    "ExecuteTime": {
     "end_time": "2019-05-11T22:33:29.757980Z",
     "start_time": "2019-05-11T22:33:29.754150Z"
    }
   },
   "outputs": [],
   "source": [
    "mses = []"
   ]
  },
  {
   "cell_type": "code",
   "execution_count": null,
   "metadata": {
    "ExecuteTime": {
     "end_time": "2019-05-11T22:33:29.768158Z",
     "start_time": "2019-05-11T22:33:29.759724Z"
    }
   },
   "outputs": [],
   "source": [
    "possible_states_mapping = dict(enumerate(possible_states))\n",
    "possible_states_mapping"
   ]
  },
  {
   "cell_type": "code",
   "execution_count": 78,
   "metadata": {
    "ExecuteTime": {
     "end_time": "2019-05-11T22:33:31.300313Z",
     "start_time": "2019-05-11T22:33:29.769973Z"
    }
   },
   "outputs": [],
   "source": [
    "for counter, timeslots in enumerate(zip(condensed_timeslots.values(), validate_timeslots.values())):\n",
    "    model_timeslot, validated_timeslot = timeslots\n",
    "    model_all_states = []\n",
    "    validated_all_states = []\n",
    "    for state in possible_states:\n",
    "        model_state = model_timeslot.get(state, 0)\n",
    "        validated_state = validated_timeslot.get(state, 0)\n",
    "        model_all_states.append(model_state)\n",
    "        validated_all_states.append(validated_state)\n",
    "    \n",
    "    mses.append(mean_squared_error(validated_all_states, model_all_states))"
   ]
  },
  {
   "cell_type": "code",
   "execution_count": null,
   "metadata": {
    "ExecuteTime": {
     "end_time": "2019-05-11T22:33:31.312064Z",
     "start_time": "2019-05-11T22:33:31.301976Z"
    }
   },
   "outputs": [],
   "source": [
    "[mse**0.5 for mse in mses]"
   ]
  },
  {
   "cell_type": "code",
   "execution_count": 80,
   "metadata": {
    "ExecuteTime": {
     "end_time": "2019-05-11T22:33:31.318692Z",
     "start_time": "2019-05-11T22:33:31.314698Z"
    }
   },
   "outputs": [],
   "source": [
    "temp_dict = {i: mse for i, mse in enumerate(mses)}"
   ]
  },
  {
   "cell_type": "code",
   "execution_count": 81,
   "metadata": {
    "ExecuteTime": {
     "end_time": "2019-05-11T22:33:31.329829Z",
     "start_time": "2019-05-11T22:33:31.321104Z"
    }
   },
   "outputs": [],
   "source": [
    "validation_df = pd.DataFrame.from_dict({'Timeslot': list(temp_dict.keys()), 'MSE': list(temp_dict.values())})"
   ]
  },
  {
   "cell_type": "code",
   "execution_count": null,
   "metadata": {
    "ExecuteTime": {
     "end_time": "2019-05-11T22:33:31.354574Z",
     "start_time": "2019-05-11T22:33:31.332694Z"
    }
   },
   "outputs": [],
   "source": [
    "validation_df"
   ]
  },
  {
   "cell_type": "code",
   "execution_count": 83,
   "metadata": {
    "ExecuteTime": {
     "end_time": "2019-05-11T22:33:32.851304Z",
     "start_time": "2019-05-11T22:33:31.356585Z"
    }
   },
   "outputs": [
    {
     "data": {
      "image/png": "[encoded data removed]",
      "text/plain": [
       "<Figure size 640x480 with 1 Axes>"
      ]
     },
     "metadata": {},
     "output_type": "display_data"
    },
    {
     "data": {
      "text/plain": [
       "<ggplot: (-9223363257899201080)>"
      ]
     },
     "execution_count": 83,
     "metadata": {},
     "output_type": "execute_result"
    }
   ],
   "source": [
    "(\n",
    "    ggplot(validation_df, aes('Timeslot', 'MSE', color='MSE'))\n",
    "    + geom_col()\n",
    ")"
   ]
  },
  {
   "cell_type": "code",
   "execution_count": 86,
   "metadata": {
    "ExecuteTime": {
     "end_time": "2019-05-11T22:55:58.553188Z",
     "start_time": "2019-05-11T22:55:58.549325Z"
    }
   },
   "outputs": [],
   "source": [
    "validation_root_df = pd.DataFrame.from_dict({'Timeslot': list(temp_dict.keys()), 'RMSE': [mse**0.5 for mse in list(temp_dict.values())]})"
   ]
  },
  {
   "cell_type": "code",
   "execution_count": 87,
   "metadata": {
    "ExecuteTime": {
     "end_time": "2019-05-11T22:56:13.807753Z",
     "start_time": "2019-05-11T22:56:12.633367Z"
    }
   },
   "outputs": [
    {
     "data": {
      "image/png": "[encoded data removed]",
      "text/plain": [
       "<Figure size 640x480 with 1 Axes>"
      ]
     },
     "metadata": {},
     "output_type": "display_data"
    },
    {
     "data": {
      "text/plain": [
       "<ggplot: (8778956482024)>"
      ]
     },
     "execution_count": 87,
     "metadata": {},
     "output_type": "execute_result"
    }
   ],
   "source": [
    "(\n",
    "    ggplot(validation_root_df, aes('Timeslot', 'RMSE', color='RMSE'))\n",
    "    + geom_col()\n",
    ")"
   ]
  },
  {
   "cell_type": "code",
   "execution_count": null,
   "metadata": {},
   "outputs": [],
   "source": []
  }
 ],
 "metadata": {
  "kernelspec": {
   "display_name": "Python 3",
   "language": "python",
   "name": "python3"
  },
  "language_info": {
   "codemirror_mode": {
    "name": "ipython",
    "version": 3
   },
   "file_extension": ".py",
   "mimetype": "text/x-python",
   "name": "python",
   "nbconvert_exporter": "python",
   "pygments_lexer": "ipython3",
   "version": "3.7.3"
  },
  "notify_time": "5",
  "toc": {
   "base_numbering": 1,
   "nav_menu": {},
   "number_sections": true,
   "sideBar": true,
   "skip_h1_title": true,
   "title_cell": "Table of Contents",
   "title_sidebar": "Contents",
   "toc_cell": false,
   "toc_position": {},
   "toc_section_display": true,
   "toc_window_display": false
  },
  "varInspector": {
   "cols": {
    "lenName": 16,
    "lenType": 16,
    "lenVar": 40
   },
   "kernels_config": {
    "python": {
     "delete_cmd_postfix": "",
     "delete_cmd_prefix": "del ",
     "library": "var_list.py",
     "varRefreshCmd": "print(var_dic_list())"
    },
    "r": {
     "delete_cmd_postfix": ") ",
     "delete_cmd_prefix": "rm(",
     "library": "var_list.r",
     "varRefreshCmd": "cat(var_dic_list()) "
    }
   },
   "types_to_exclude": [
    "module",
    "function",
    "builtin_function_or_method",
    "instance",
    "_Feature"
   ],
   "window_display": false
  }
 },
 "nbformat": 4,
 "nbformat_minor": 2
}
